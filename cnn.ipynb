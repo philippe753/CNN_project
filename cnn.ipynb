{
  "nbformat": 4,
  "nbformat_minor": 0,
  "metadata": {
    "colab": {
      "name": "cnn.ipynb",
      "provenance": [],
      "collapsed_sections": [],
      "mount_file_id": "1jYp01vtq79P532WCd7We-41E1Ci2gQO_",
      "authorship_tag": "ABX9TyMrkGzqNjyKa5Firwn8u19M",
      "include_colab_link": true
    },
    "kernelspec": {
      "display_name": "Python 3",
      "name": "python3"
    },
    "language_info": {
      "name": "python"
    }
  },
  "cells": [
    {
      "cell_type": "markdown",
      "metadata": {
        "id": "view-in-github",
        "colab_type": "text"
      },
      "source": [
        "<a href=\"https://colab.research.google.com/github/philippe753/CNN_project/blob/main/cnn.ipynb\" target=\"_parent\"><img src=\"https://colab.research.google.com/assets/colab-badge.svg\" alt=\"Open In Colab\"/></a>"
      ]
    },
    {
      "cell_type": "code",
      "metadata": {
        "id": "VprqOzrRUgic"
      },
      "source": [
        "# Import libraries\n",
        "import numpy as np\n",
        "import pandas as pd\n",
        "import os\n",
        "import tensorflow as tf\n",
        "import glob\n",
        "import os\n",
        "import torch\n",
        "import torch.nn as nn\n",
        "import torch.nn.functional as F\n",
        "import torch.optim as optim\n",
        "import torch.utils.data\n",
        "import torchvision \n",
        "from matplotlib import pyplot as plt\n",
        "import gc\n",
        "from tensorflow.keras.applications.vgg16 import VGG16, preprocess_input, decode_predictions\n",
        "import keras\n",
        "from tensorflow.keras.applications.resnet50 import ResNet50\n",
        "from keras.models import Sequential, Model\n",
        "from keras.layers import Dense, Dropout, Activation, Flatten, AveragePooling2D, Conv2D, MaxPooling2D\n",
        "from keras.preprocessing import image\n",
        "from keras.optimizers import SGD, Adam\n",
        "from keras.callbacks import TensorBoard\n",
        "from sklearn.preprocessing import normalize\n",
        "from sklearn.model_selection import train_test_split \n",
        "from sklearn.linear_model import Perceptron\n",
        "from sklearn.metrics import accuracy_score\n",
        "import pickle\n",
        "import time\n",
        "import cv2"
      ],
      "execution_count": 21,
      "outputs": []
    },
    {
      "cell_type": "code",
      "metadata": {
        "id": "CgqZRqzakxfY"
      },
      "source": [
        "# unzip the data frame containing the celebraties images\n",
        "!unzip \"/content/drive/MyDrive/AI_dataset/img_align_celeba.zip\""
      ],
      "execution_count": null,
      "outputs": []
    },
    {
      "cell_type": "code",
      "metadata": {
        "colab": {
          "base_uri": "https://localhost:8080/",
          "height": 428
        },
        "id": "mQ2-2Tw0gr7i",
        "outputId": "2393cad9-45bd-4429-9f6d-2867ac20bd60"
      },
      "source": [
        "  # Importing data\n",
        "  data_Y = pd.read_excel(\"/content/drive/MyDrive/AI_dataset/list_attr_celeba.xlsx\")\n",
        "  data_Y_columns = data_Y.iloc[0] # This contains the name of the features/columns of the dataframe.\n",
        "\n",
        "  # Inspecting Data\n",
        "\n",
        "  # plot of the first 5 columns of the raw data\n",
        "  print(\"Raw data frame: \\n\")\n",
        "  print(data_Y.head(5))\n",
        "\n",
        "\n",
        "  data_Y = data_Y.replace(-1, 0) # Replace -1 for a 0.\n",
        "  # Deleating the first row, since it contains it just a interger refereing to the total number of imgs.\n",
        "  first_row = data_Y.iloc[0] #grab the first row for the header\n",
        "  data_Y = data_Y[1:] #take the data less the header row\n",
        "  data_Y.columns = first_row #set the header row as the df header\n",
        "  print('New data frame: \\n')\n",
        "  data_Y.head(5)"
      ],
      "execution_count": null,
      "outputs": [
        {
          "output_type": "stream",
          "text": [
            "Raw data frame: \n",
            "\n",
            "       202599        Unnamed: 1  ...      Unnamed: 39 Unnamed: 40\n",
            "0           #  5_o_Clock_Shadow  ...  Wearing_Necktie       Young\n",
            "1  000001.jpg                -1  ...               -1           1\n",
            "2  000002.jpg                -1  ...               -1           1\n",
            "3  000003.jpg                -1  ...               -1           1\n",
            "4  000004.jpg                -1  ...               -1           1\n",
            "\n",
            "[5 rows x 41 columns]\n",
            "New data frame: \n",
            "\n"
          ],
          "name": "stdout"
        },
        {
          "output_type": "execute_result",
          "data": {
            "text/html": [
              "<div>\n",
              "<style scoped>\n",
              "    .dataframe tbody tr th:only-of-type {\n",
              "        vertical-align: middle;\n",
              "    }\n",
              "\n",
              "    .dataframe tbody tr th {\n",
              "        vertical-align: top;\n",
              "    }\n",
              "\n",
              "    .dataframe thead th {\n",
              "        text-align: right;\n",
              "    }\n",
              "</style>\n",
              "<table border=\"1\" class=\"dataframe\">\n",
              "  <thead>\n",
              "    <tr style=\"text-align: right;\">\n",
              "      <th></th>\n",
              "      <th>#</th>\n",
              "      <th>5_o_Clock_Shadow</th>\n",
              "      <th>Arched_Eyebrows</th>\n",
              "      <th>Attractive</th>\n",
              "      <th>Bags_Under_Eyes</th>\n",
              "      <th>Bald</th>\n",
              "      <th>Bangs</th>\n",
              "      <th>Big_Lips</th>\n",
              "      <th>Big_Nose</th>\n",
              "      <th>Black_Hair</th>\n",
              "      <th>Blond_Hair</th>\n",
              "      <th>Blurry</th>\n",
              "      <th>Brown_Hair</th>\n",
              "      <th>Bushy_Eyebrows</th>\n",
              "      <th>Chubby</th>\n",
              "      <th>Double_Chin</th>\n",
              "      <th>Eyeglasses</th>\n",
              "      <th>Goatee</th>\n",
              "      <th>Gray_Hair</th>\n",
              "      <th>Heavy_Makeup</th>\n",
              "      <th>High_Cheekbones</th>\n",
              "      <th>Male</th>\n",
              "      <th>Mouth_Slightly_Open</th>\n",
              "      <th>Mustache</th>\n",
              "      <th>Narrow_Eyes</th>\n",
              "      <th>No_Beard</th>\n",
              "      <th>Oval_Face</th>\n",
              "      <th>Pale_Skin</th>\n",
              "      <th>Pointy_Nose</th>\n",
              "      <th>Receding_Hairline</th>\n",
              "      <th>Rosy_Cheeks</th>\n",
              "      <th>Sideburns</th>\n",
              "      <th>Smiling</th>\n",
              "      <th>Straight_Hair</th>\n",
              "      <th>Wavy_Hair</th>\n",
              "      <th>Wearing_Earrings</th>\n",
              "      <th>Wearing_Hat</th>\n",
              "      <th>Wearing_Lipstick</th>\n",
              "      <th>Wearing_Necklace</th>\n",
              "      <th>Wearing_Necktie</th>\n",
              "      <th>Young</th>\n",
              "    </tr>\n",
              "  </thead>\n",
              "  <tbody>\n",
              "    <tr>\n",
              "      <th>1</th>\n",
              "      <td>000001.jpg</td>\n",
              "      <td>0</td>\n",
              "      <td>1</td>\n",
              "      <td>1</td>\n",
              "      <td>0</td>\n",
              "      <td>0</td>\n",
              "      <td>0</td>\n",
              "      <td>0</td>\n",
              "      <td>0</td>\n",
              "      <td>0</td>\n",
              "      <td>0</td>\n",
              "      <td>0</td>\n",
              "      <td>1</td>\n",
              "      <td>0</td>\n",
              "      <td>0</td>\n",
              "      <td>0</td>\n",
              "      <td>0</td>\n",
              "      <td>0</td>\n",
              "      <td>0</td>\n",
              "      <td>1</td>\n",
              "      <td>1</td>\n",
              "      <td>0</td>\n",
              "      <td>1</td>\n",
              "      <td>0</td>\n",
              "      <td>0</td>\n",
              "      <td>1</td>\n",
              "      <td>0</td>\n",
              "      <td>0</td>\n",
              "      <td>1</td>\n",
              "      <td>0</td>\n",
              "      <td>0</td>\n",
              "      <td>0</td>\n",
              "      <td>1</td>\n",
              "      <td>1</td>\n",
              "      <td>0</td>\n",
              "      <td>1</td>\n",
              "      <td>0</td>\n",
              "      <td>1</td>\n",
              "      <td>0</td>\n",
              "      <td>0</td>\n",
              "      <td>1</td>\n",
              "    </tr>\n",
              "    <tr>\n",
              "      <th>2</th>\n",
              "      <td>000002.jpg</td>\n",
              "      <td>0</td>\n",
              "      <td>0</td>\n",
              "      <td>0</td>\n",
              "      <td>1</td>\n",
              "      <td>0</td>\n",
              "      <td>0</td>\n",
              "      <td>0</td>\n",
              "      <td>1</td>\n",
              "      <td>0</td>\n",
              "      <td>0</td>\n",
              "      <td>0</td>\n",
              "      <td>1</td>\n",
              "      <td>0</td>\n",
              "      <td>0</td>\n",
              "      <td>0</td>\n",
              "      <td>0</td>\n",
              "      <td>0</td>\n",
              "      <td>0</td>\n",
              "      <td>0</td>\n",
              "      <td>1</td>\n",
              "      <td>0</td>\n",
              "      <td>1</td>\n",
              "      <td>0</td>\n",
              "      <td>0</td>\n",
              "      <td>1</td>\n",
              "      <td>0</td>\n",
              "      <td>0</td>\n",
              "      <td>0</td>\n",
              "      <td>0</td>\n",
              "      <td>0</td>\n",
              "      <td>0</td>\n",
              "      <td>1</td>\n",
              "      <td>0</td>\n",
              "      <td>0</td>\n",
              "      <td>0</td>\n",
              "      <td>0</td>\n",
              "      <td>0</td>\n",
              "      <td>0</td>\n",
              "      <td>0</td>\n",
              "      <td>1</td>\n",
              "    </tr>\n",
              "    <tr>\n",
              "      <th>3</th>\n",
              "      <td>000003.jpg</td>\n",
              "      <td>0</td>\n",
              "      <td>0</td>\n",
              "      <td>0</td>\n",
              "      <td>0</td>\n",
              "      <td>0</td>\n",
              "      <td>0</td>\n",
              "      <td>1</td>\n",
              "      <td>0</td>\n",
              "      <td>0</td>\n",
              "      <td>0</td>\n",
              "      <td>1</td>\n",
              "      <td>0</td>\n",
              "      <td>0</td>\n",
              "      <td>0</td>\n",
              "      <td>0</td>\n",
              "      <td>0</td>\n",
              "      <td>0</td>\n",
              "      <td>0</td>\n",
              "      <td>0</td>\n",
              "      <td>0</td>\n",
              "      <td>1</td>\n",
              "      <td>0</td>\n",
              "      <td>0</td>\n",
              "      <td>1</td>\n",
              "      <td>1</td>\n",
              "      <td>0</td>\n",
              "      <td>0</td>\n",
              "      <td>1</td>\n",
              "      <td>0</td>\n",
              "      <td>0</td>\n",
              "      <td>0</td>\n",
              "      <td>0</td>\n",
              "      <td>0</td>\n",
              "      <td>1</td>\n",
              "      <td>0</td>\n",
              "      <td>0</td>\n",
              "      <td>0</td>\n",
              "      <td>0</td>\n",
              "      <td>0</td>\n",
              "      <td>1</td>\n",
              "    </tr>\n",
              "    <tr>\n",
              "      <th>4</th>\n",
              "      <td>000004.jpg</td>\n",
              "      <td>0</td>\n",
              "      <td>0</td>\n",
              "      <td>1</td>\n",
              "      <td>0</td>\n",
              "      <td>0</td>\n",
              "      <td>0</td>\n",
              "      <td>0</td>\n",
              "      <td>0</td>\n",
              "      <td>0</td>\n",
              "      <td>0</td>\n",
              "      <td>0</td>\n",
              "      <td>0</td>\n",
              "      <td>0</td>\n",
              "      <td>0</td>\n",
              "      <td>0</td>\n",
              "      <td>0</td>\n",
              "      <td>0</td>\n",
              "      <td>0</td>\n",
              "      <td>0</td>\n",
              "      <td>0</td>\n",
              "      <td>0</td>\n",
              "      <td>0</td>\n",
              "      <td>0</td>\n",
              "      <td>0</td>\n",
              "      <td>1</td>\n",
              "      <td>0</td>\n",
              "      <td>0</td>\n",
              "      <td>1</td>\n",
              "      <td>0</td>\n",
              "      <td>0</td>\n",
              "      <td>0</td>\n",
              "      <td>0</td>\n",
              "      <td>1</td>\n",
              "      <td>0</td>\n",
              "      <td>1</td>\n",
              "      <td>0</td>\n",
              "      <td>1</td>\n",
              "      <td>1</td>\n",
              "      <td>0</td>\n",
              "      <td>1</td>\n",
              "    </tr>\n",
              "    <tr>\n",
              "      <th>5</th>\n",
              "      <td>000005.jpg</td>\n",
              "      <td>0</td>\n",
              "      <td>1</td>\n",
              "      <td>1</td>\n",
              "      <td>0</td>\n",
              "      <td>0</td>\n",
              "      <td>0</td>\n",
              "      <td>1</td>\n",
              "      <td>0</td>\n",
              "      <td>0</td>\n",
              "      <td>0</td>\n",
              "      <td>0</td>\n",
              "      <td>0</td>\n",
              "      <td>0</td>\n",
              "      <td>0</td>\n",
              "      <td>0</td>\n",
              "      <td>0</td>\n",
              "      <td>0</td>\n",
              "      <td>0</td>\n",
              "      <td>1</td>\n",
              "      <td>0</td>\n",
              "      <td>0</td>\n",
              "      <td>0</td>\n",
              "      <td>0</td>\n",
              "      <td>1</td>\n",
              "      <td>1</td>\n",
              "      <td>0</td>\n",
              "      <td>0</td>\n",
              "      <td>1</td>\n",
              "      <td>0</td>\n",
              "      <td>0</td>\n",
              "      <td>0</td>\n",
              "      <td>0</td>\n",
              "      <td>0</td>\n",
              "      <td>0</td>\n",
              "      <td>0</td>\n",
              "      <td>0</td>\n",
              "      <td>1</td>\n",
              "      <td>0</td>\n",
              "      <td>0</td>\n",
              "      <td>1</td>\n",
              "    </tr>\n",
              "  </tbody>\n",
              "</table>\n",
              "</div>"
            ],
            "text/plain": [
              "0           # 5_o_Clock_Shadow  ... Wearing_Necktie Young\n",
              "1  000001.jpg                0  ...               0     1\n",
              "2  000002.jpg                0  ...               0     1\n",
              "3  000003.jpg                0  ...               0     1\n",
              "4  000004.jpg                0  ...               0     1\n",
              "5  000005.jpg                0  ...               0     1\n",
              "\n",
              "[5 rows x 41 columns]"
            ]
          },
          "metadata": {
            "tags": []
          },
          "execution_count": 31
        }
      ]
    },
    {
      "cell_type": "code",
      "metadata": {
        "id": "Ga9v3yEzn7uT"
      },
      "source": [
        "# download dataframe y\n",
        "\n",
        "#pickle_out =  open(\"X.pickle\", \"bw\")\n",
        "#pickle.dump(training_data, pickle_out)\n",
        "#pickle_out.close()"
      ],
      "execution_count": null,
      "outputs": []
    },
    {
      "cell_type": "code",
      "metadata": {
        "id": "h-1P8oVZjQ8R"
      },
      "source": [
        "# Load data frame y\n",
        "data_Y = pickle.load(open(\"/content/drive/MyDrive/AI_dataset/y.pickle\",\"rb\"))\n",
        "#data_X = pickle.load(open(\"X.pickle\",\"rb\"))"
      ],
      "execution_count": 2,
      "outputs": []
    },
    {
      "cell_type": "markdown",
      "metadata": {
        "id": "rvvf3TVmKvmR"
      },
      "source": [
        "## Description of our data Frame\n",
        "As we can see bellow, most examples are not bold, do not have Clock shadow, do not have bangs, do not have blond hair, do not have double chin, do not have eyeglasses, do not have a Goatee, nor gray_hair, nor mustache, nor male skin, nor have a recending hairline, nor have rosy cheeks,nor side burns, nor wearing a hat, nor wearing a necktie.\n",
        "\n",
        "The first model we'll learn is a  simple logisitc neural network to try to predict attrative and non attrative people. "
      ]
    },
    {
      "cell_type": "code",
      "metadata": {
        "colab": {
          "base_uri": "https://localhost:8080/",
          "height": 193
        },
        "id": "PuvWBriyMii8",
        "outputId": "f6015817-b5e4-4d3b-f9ed-2987f7e39944"
      },
      "source": [
        "data_Y.describe()"
      ],
      "execution_count": null,
      "outputs": [
        {
          "output_type": "execute_result",
          "data": {
            "text/html": [
              "<div>\n",
              "<style scoped>\n",
              "    .dataframe tbody tr th:only-of-type {\n",
              "        vertical-align: middle;\n",
              "    }\n",
              "\n",
              "    .dataframe tbody tr th {\n",
              "        vertical-align: top;\n",
              "    }\n",
              "\n",
              "    .dataframe thead th {\n",
              "        text-align: right;\n",
              "    }\n",
              "</style>\n",
              "<table border=\"1\" class=\"dataframe\">\n",
              "  <thead>\n",
              "    <tr style=\"text-align: right;\">\n",
              "      <th></th>\n",
              "      <th>#</th>\n",
              "      <th>5_o_Clock_Shadow</th>\n",
              "      <th>Arched_Eyebrows</th>\n",
              "      <th>Attractive</th>\n",
              "      <th>Bags_Under_Eyes</th>\n",
              "      <th>Bald</th>\n",
              "      <th>Bangs</th>\n",
              "      <th>Big_Lips</th>\n",
              "      <th>Big_Nose</th>\n",
              "      <th>Black_Hair</th>\n",
              "      <th>Blond_Hair</th>\n",
              "      <th>Blurry</th>\n",
              "      <th>Brown_Hair</th>\n",
              "      <th>Bushy_Eyebrows</th>\n",
              "      <th>Chubby</th>\n",
              "      <th>Double_Chin</th>\n",
              "      <th>Eyeglasses</th>\n",
              "      <th>Goatee</th>\n",
              "      <th>Gray_Hair</th>\n",
              "      <th>Heavy_Makeup</th>\n",
              "      <th>High_Cheekbones</th>\n",
              "      <th>Male</th>\n",
              "      <th>Mouth_Slightly_Open</th>\n",
              "      <th>Mustache</th>\n",
              "      <th>Narrow_Eyes</th>\n",
              "      <th>No_Beard</th>\n",
              "      <th>Oval_Face</th>\n",
              "      <th>Pale_Skin</th>\n",
              "      <th>Pointy_Nose</th>\n",
              "      <th>Receding_Hairline</th>\n",
              "      <th>Rosy_Cheeks</th>\n",
              "      <th>Sideburns</th>\n",
              "      <th>Smiling</th>\n",
              "      <th>Straight_Hair</th>\n",
              "      <th>Wavy_Hair</th>\n",
              "      <th>Wearing_Earrings</th>\n",
              "      <th>Wearing_Hat</th>\n",
              "      <th>Wearing_Lipstick</th>\n",
              "      <th>Wearing_Necklace</th>\n",
              "      <th>Wearing_Necktie</th>\n",
              "      <th>Young</th>\n",
              "    </tr>\n",
              "  </thead>\n",
              "  <tbody>\n",
              "    <tr>\n",
              "      <th>count</th>\n",
              "      <td>202599</td>\n",
              "      <td>202599</td>\n",
              "      <td>202599</td>\n",
              "      <td>202599</td>\n",
              "      <td>202599</td>\n",
              "      <td>202599</td>\n",
              "      <td>202599</td>\n",
              "      <td>202599</td>\n",
              "      <td>202599</td>\n",
              "      <td>202599</td>\n",
              "      <td>202599</td>\n",
              "      <td>202599</td>\n",
              "      <td>202599</td>\n",
              "      <td>202599</td>\n",
              "      <td>202599</td>\n",
              "      <td>202599</td>\n",
              "      <td>202599</td>\n",
              "      <td>202599</td>\n",
              "      <td>202599</td>\n",
              "      <td>202599</td>\n",
              "      <td>202599</td>\n",
              "      <td>202599</td>\n",
              "      <td>202599</td>\n",
              "      <td>202599</td>\n",
              "      <td>202599</td>\n",
              "      <td>202599</td>\n",
              "      <td>202599</td>\n",
              "      <td>202599</td>\n",
              "      <td>202599</td>\n",
              "      <td>202599</td>\n",
              "      <td>202599</td>\n",
              "      <td>202599</td>\n",
              "      <td>202599</td>\n",
              "      <td>202599</td>\n",
              "      <td>202599</td>\n",
              "      <td>202599</td>\n",
              "      <td>202599</td>\n",
              "      <td>202599</td>\n",
              "      <td>202599</td>\n",
              "      <td>202599</td>\n",
              "      <td>202599</td>\n",
              "    </tr>\n",
              "    <tr>\n",
              "      <th>unique</th>\n",
              "      <td>202599</td>\n",
              "      <td>2</td>\n",
              "      <td>2</td>\n",
              "      <td>2</td>\n",
              "      <td>2</td>\n",
              "      <td>2</td>\n",
              "      <td>2</td>\n",
              "      <td>2</td>\n",
              "      <td>2</td>\n",
              "      <td>2</td>\n",
              "      <td>2</td>\n",
              "      <td>2</td>\n",
              "      <td>2</td>\n",
              "      <td>2</td>\n",
              "      <td>2</td>\n",
              "      <td>2</td>\n",
              "      <td>2</td>\n",
              "      <td>2</td>\n",
              "      <td>2</td>\n",
              "      <td>2</td>\n",
              "      <td>2</td>\n",
              "      <td>2</td>\n",
              "      <td>2</td>\n",
              "      <td>2</td>\n",
              "      <td>2</td>\n",
              "      <td>2</td>\n",
              "      <td>2</td>\n",
              "      <td>2</td>\n",
              "      <td>2</td>\n",
              "      <td>2</td>\n",
              "      <td>2</td>\n",
              "      <td>2</td>\n",
              "      <td>2</td>\n",
              "      <td>2</td>\n",
              "      <td>2</td>\n",
              "      <td>2</td>\n",
              "      <td>2</td>\n",
              "      <td>2</td>\n",
              "      <td>2</td>\n",
              "      <td>2</td>\n",
              "      <td>2</td>\n",
              "    </tr>\n",
              "    <tr>\n",
              "      <th>top</th>\n",
              "      <td>093762.jpg</td>\n",
              "      <td>0</td>\n",
              "      <td>0</td>\n",
              "      <td>1</td>\n",
              "      <td>0</td>\n",
              "      <td>0</td>\n",
              "      <td>0</td>\n",
              "      <td>0</td>\n",
              "      <td>0</td>\n",
              "      <td>0</td>\n",
              "      <td>0</td>\n",
              "      <td>0</td>\n",
              "      <td>0</td>\n",
              "      <td>0</td>\n",
              "      <td>0</td>\n",
              "      <td>0</td>\n",
              "      <td>0</td>\n",
              "      <td>0</td>\n",
              "      <td>0</td>\n",
              "      <td>0</td>\n",
              "      <td>0</td>\n",
              "      <td>0</td>\n",
              "      <td>0</td>\n",
              "      <td>0</td>\n",
              "      <td>0</td>\n",
              "      <td>1</td>\n",
              "      <td>0</td>\n",
              "      <td>0</td>\n",
              "      <td>0</td>\n",
              "      <td>0</td>\n",
              "      <td>0</td>\n",
              "      <td>0</td>\n",
              "      <td>0</td>\n",
              "      <td>0</td>\n",
              "      <td>0</td>\n",
              "      <td>0</td>\n",
              "      <td>0</td>\n",
              "      <td>0</td>\n",
              "      <td>0</td>\n",
              "      <td>0</td>\n",
              "      <td>1</td>\n",
              "    </tr>\n",
              "    <tr>\n",
              "      <th>freq</th>\n",
              "      <td>1</td>\n",
              "      <td>180083</td>\n",
              "      <td>148509</td>\n",
              "      <td>103833</td>\n",
              "      <td>161153</td>\n",
              "      <td>198052</td>\n",
              "      <td>171890</td>\n",
              "      <td>153814</td>\n",
              "      <td>155083</td>\n",
              "      <td>154127</td>\n",
              "      <td>172616</td>\n",
              "      <td>192287</td>\n",
              "      <td>161027</td>\n",
              "      <td>173796</td>\n",
              "      <td>190936</td>\n",
              "      <td>193140</td>\n",
              "      <td>189406</td>\n",
              "      <td>189883</td>\n",
              "      <td>194100</td>\n",
              "      <td>124209</td>\n",
              "      <td>110410</td>\n",
              "      <td>118165</td>\n",
              "      <td>104657</td>\n",
              "      <td>194182</td>\n",
              "      <td>179270</td>\n",
              "      <td>169158</td>\n",
              "      <td>145032</td>\n",
              "      <td>193898</td>\n",
              "      <td>146389</td>\n",
              "      <td>186436</td>\n",
              "      <td>189284</td>\n",
              "      <td>191150</td>\n",
              "      <td>104930</td>\n",
              "      <td>160377</td>\n",
              "      <td>137855</td>\n",
              "      <td>164323</td>\n",
              "      <td>192781</td>\n",
              "      <td>106884</td>\n",
              "      <td>177686</td>\n",
              "      <td>187867</td>\n",
              "      <td>156734</td>\n",
              "    </tr>\n",
              "  </tbody>\n",
              "</table>\n",
              "</div>"
            ],
            "text/plain": [
              "0                #  5_o_Clock_Shadow  ...  Wearing_Necktie   Young\n",
              "count       202599            202599  ...           202599  202599\n",
              "unique      202599                 2  ...                2       2\n",
              "top     093762.jpg                 0  ...                0       1\n",
              "freq             1            180083  ...           187867  156734\n",
              "\n",
              "[4 rows x 41 columns]"
            ]
          },
          "metadata": {
            "tags": []
          },
          "execution_count": 6
        }
      ]
    },
    {
      "cell_type": "markdown",
      "metadata": {
        "id": "0REzk7zBwA1S"
      },
      "source": [
        "## Randomly pick m images to be the training set.\n",
        "Every image is flattened from a 3 dimmensional array to a 1-dimensional array and then standarized."
      ]
    },
    {
      "cell_type": "code",
      "metadata": {
        "id": "nlpORcNw-avf"
      },
      "source": [
        "# randomly sample all the attractive people\n",
        "data_Y_attractive = data_Y[data_Y[\"Attractive\"] == 1][\"Attractive\"].sample(frac=1)\n",
        "data_Y_attractive_idx = data_Y_attractive.index[0:]\n",
        "\n",
        "data_Y_unattractive = data_Y[data_Y[\"Attractive\"] == 0][\"Attractive\"].sample(frac=1)\n",
        "#data_Y_unattractive = np.random.shuffle(data_Y_unattractive)\n",
        "data_Y_unattractive_idx = data_Y_unattractive.index[0:]\n"
      ],
      "execution_count": 3,
      "outputs": []
    },
    {
      "cell_type": "code",
      "metadata": {
        "colab": {
          "base_uri": "https://localhost:8080/"
        },
        "id": "R39SSZnbcVr9",
        "outputId": "8ac3291f-7b82-4fa4-e2c1-872905a9cb65"
      },
      "source": [
        "data_Y_attractive_idx[0]"
      ],
      "execution_count": 5,
      "outputs": [
        {
          "output_type": "execute_result",
          "data": {
            "text/plain": [
              "166201"
            ]
          },
          "metadata": {
            "tags": []
          },
          "execution_count": 5
        }
      ]
    },
    {
      "cell_type": "code",
      "metadata": {
        "id": "q9zscTP1IC-9"
      },
      "source": [
        "# randomly sample all the attractive people\n",
        "m_train = 1500\n",
        "#m_test = 100\n",
        "num_features = 116412\n",
        "train_Y_attractive = data_Y_attractive.head(m_train)\n",
        "#test_Y_attractive = data_Y_attractive.head(m_test)\n",
        "attractive_idx = data_Y_attractive_idx[0:(m_train)] #+m_test\n",
        "train_X_attractive = np.zeros((num_features, m_train))\n",
        "#test_X_attractive = np.zeros((num_features, m_test))\n",
        "\n",
        "# the same for the unattractive data set\n",
        "train_Y_unattractive = data_Y_unattractive.head(m_train)\n",
        "#test_Y_unattractive = data_Y_attractive.head(m_test)\n",
        "unattractive_idx = data_Y_unattractive_idx[0:(m_train)]#+m_test\n",
        "train_X_unattractive = np.zeros((num_features, m_train))\n",
        "#test_X_unattractive = np.zeros((num_features, m_test))\n",
        "\n",
        "img_path = np.sort(glob.glob(\"img_align_celeba/*.*\"))\n",
        "\n",
        "# randomly select samples from the attractive data set, and flatter it to an array\n",
        "for i in range(0, m_train):\n",
        "    img = cv2.imread(img_path[attractive_idx[i]])\n",
        "    img_v = img.reshape((img.shape[0] * img.shape[1] * img.shape[2], 1))\n",
        "    #if i < m_train:\n",
        "        # for training set:\n",
        "    train_X_attractive[:, i] = img_v[:, 0]\n",
        "    #elif i>=m_train: \n",
        "    #    # for test set:\n",
        "    #    test_X_attractive[:, (i-m_train)] = img_v[:, 0]\n",
        "\n",
        "# randomly select samples from the unattractive data set, and flatter it to an array\n",
        "for i in range(0, m_train):\n",
        "    img = cv2.imread(img_path[unattractive_idx[i]])\n",
        "    img_v = img.reshape((img.shape[0] * img.shape[1] * img.shape[2], 1))\n",
        "    #if i < m_train: \n",
        "    train_X_unattractive[:, i] = img_v[:, 0]\n",
        "    #elif i>=m_train:\n",
        "    #    # for test set:\n",
        "    #    test_X_unattractive[:, (i-m_train)] = img_v[:, 0]\n"
      ],
      "execution_count": 4,
      "outputs": []
    },
    {
      "cell_type": "code",
      "metadata": {
        "id": "fb4HAURcOwq_"
      },
      "source": [
        "X = np.concatenate((train_X_attractive, train_X_unattractive), axis=1)\n",
        "X.shape\n",
        "y = np.reshape(np.concatenate((train_Y_attractive, train_Y_unattractive)), (1, -1))\n",
        "############ TO DO ##############3\n",
        "# try to make the sets in cointain both the attractive and unattractive ."
      ],
      "execution_count": 5,
      "outputs": []
    },
    {
      "cell_type": "code",
      "metadata": {
        "colab": {
          "base_uri": "https://localhost:8080/"
        },
        "id": "FS4TYoCHwfAO",
        "outputId": "4e98050a-e6f0-4209-db02-f8f42a628410"
      },
      "source": [
        "y = y\n",
        "X = X\n",
        "print(\"X_train shape is: \" + str(X.shape))\n",
        "print(\"y is: \" + str(y.shape))"
      ],
      "execution_count": 26,
      "outputs": [
        {
          "output_type": "stream",
          "text": [
            "X_train shape is: (116412, 3000)\n",
            "y is: (1, 3000)\n"
          ],
          "name": "stdout"
        }
      ]
    },
    {
      "cell_type": "code",
      "metadata": {
        "id": "fa1pKTPxv3P6",
        "colab": {
          "base_uri": "https://localhost:8080/",
          "height": 425
        },
        "outputId": "c9dedd06-6401-4b8c-ad07-8cf4da3704be"
      },
      "source": [
        "X_train_f, X_test_f, y_train_f,  y_test_f = train_test_split(X,\n",
        "                                                             y,\n",
        "                                                             test_size=0.1,\n",
        "                                                             random_state=42)"
      ],
      "execution_count": 28,
      "outputs": [
        {
          "output_type": "error",
          "ename": "ValueError",
          "evalue": "ignored",
          "traceback": [
            "\u001b[0;31m---------------------------------------------------------------------------\u001b[0m",
            "\u001b[0;31mValueError\u001b[0m                                Traceback (most recent call last)",
            "\u001b[0;32m<ipython-input-28-c64977347bf3>\u001b[0m in \u001b[0;36m<module>\u001b[0;34m()\u001b[0m\n\u001b[1;32m      2\u001b[0m                                                              \u001b[0my\u001b[0m\u001b[0;34m,\u001b[0m\u001b[0;34m\u001b[0m\u001b[0;34m\u001b[0m\u001b[0m\n\u001b[1;32m      3\u001b[0m                                                              \u001b[0mtest_size\u001b[0m\u001b[0;34m=\u001b[0m\u001b[0;36m0.1\u001b[0m\u001b[0;34m,\u001b[0m\u001b[0;34m\u001b[0m\u001b[0;34m\u001b[0m\u001b[0m\n\u001b[0;32m----> 4\u001b[0;31m                                                              random_state=42)\n\u001b[0m",
            "\u001b[0;32m/usr/local/lib/python3.7/dist-packages/sklearn/model_selection/_split.py\u001b[0m in \u001b[0;36mtrain_test_split\u001b[0;34m(*arrays, **options)\u001b[0m\n\u001b[1;32m   2116\u001b[0m         \u001b[0;32mraise\u001b[0m \u001b[0mTypeError\u001b[0m\u001b[0;34m(\u001b[0m\u001b[0;34m\"Invalid parameters passed: %s\"\u001b[0m \u001b[0;34m%\u001b[0m \u001b[0mstr\u001b[0m\u001b[0;34m(\u001b[0m\u001b[0moptions\u001b[0m\u001b[0;34m)\u001b[0m\u001b[0;34m)\u001b[0m\u001b[0;34m\u001b[0m\u001b[0;34m\u001b[0m\u001b[0m\n\u001b[1;32m   2117\u001b[0m \u001b[0;34m\u001b[0m\u001b[0m\n\u001b[0;32m-> 2118\u001b[0;31m     \u001b[0marrays\u001b[0m \u001b[0;34m=\u001b[0m \u001b[0mindexable\u001b[0m\u001b[0;34m(\u001b[0m\u001b[0;34m*\u001b[0m\u001b[0marrays\u001b[0m\u001b[0;34m)\u001b[0m\u001b[0;34m\u001b[0m\u001b[0;34m\u001b[0m\u001b[0m\n\u001b[0m\u001b[1;32m   2119\u001b[0m \u001b[0;34m\u001b[0m\u001b[0m\n\u001b[1;32m   2120\u001b[0m     \u001b[0mn_samples\u001b[0m \u001b[0;34m=\u001b[0m \u001b[0m_num_samples\u001b[0m\u001b[0;34m(\u001b[0m\u001b[0marrays\u001b[0m\u001b[0;34m[\u001b[0m\u001b[0;36m0\u001b[0m\u001b[0;34m]\u001b[0m\u001b[0;34m)\u001b[0m\u001b[0;34m\u001b[0m\u001b[0;34m\u001b[0m\u001b[0m\n",
            "\u001b[0;32m/usr/local/lib/python3.7/dist-packages/sklearn/utils/validation.py\u001b[0m in \u001b[0;36mindexable\u001b[0;34m(*iterables)\u001b[0m\n\u001b[1;32m    246\u001b[0m     \"\"\"\n\u001b[1;32m    247\u001b[0m     \u001b[0mresult\u001b[0m \u001b[0;34m=\u001b[0m \u001b[0;34m[\u001b[0m\u001b[0m_make_indexable\u001b[0m\u001b[0;34m(\u001b[0m\u001b[0mX\u001b[0m\u001b[0;34m)\u001b[0m \u001b[0;32mfor\u001b[0m \u001b[0mX\u001b[0m \u001b[0;32min\u001b[0m \u001b[0miterables\u001b[0m\u001b[0;34m]\u001b[0m\u001b[0;34m\u001b[0m\u001b[0;34m\u001b[0m\u001b[0m\n\u001b[0;32m--> 248\u001b[0;31m     \u001b[0mcheck_consistent_length\u001b[0m\u001b[0;34m(\u001b[0m\u001b[0;34m*\u001b[0m\u001b[0mresult\u001b[0m\u001b[0;34m)\u001b[0m\u001b[0;34m\u001b[0m\u001b[0;34m\u001b[0m\u001b[0m\n\u001b[0m\u001b[1;32m    249\u001b[0m     \u001b[0;32mreturn\u001b[0m \u001b[0mresult\u001b[0m\u001b[0;34m\u001b[0m\u001b[0;34m\u001b[0m\u001b[0m\n\u001b[1;32m    250\u001b[0m \u001b[0;34m\u001b[0m\u001b[0m\n",
            "\u001b[0;32m/usr/local/lib/python3.7/dist-packages/sklearn/utils/validation.py\u001b[0m in \u001b[0;36mcheck_consistent_length\u001b[0;34m(*arrays)\u001b[0m\n\u001b[1;32m    210\u001b[0m     \u001b[0;32mif\u001b[0m \u001b[0mlen\u001b[0m\u001b[0;34m(\u001b[0m\u001b[0muniques\u001b[0m\u001b[0;34m)\u001b[0m \u001b[0;34m>\u001b[0m \u001b[0;36m1\u001b[0m\u001b[0;34m:\u001b[0m\u001b[0;34m\u001b[0m\u001b[0;34m\u001b[0m\u001b[0m\n\u001b[1;32m    211\u001b[0m         raise ValueError(\"Found input variables with inconsistent numbers of\"\n\u001b[0;32m--> 212\u001b[0;31m                          \" samples: %r\" % [int(l) for l in lengths])\n\u001b[0m\u001b[1;32m    213\u001b[0m \u001b[0;34m\u001b[0m\u001b[0m\n\u001b[1;32m    214\u001b[0m \u001b[0;34m\u001b[0m\u001b[0m\n",
            "\u001b[0;31mValueError\u001b[0m: Found input variables with inconsistent numbers of samples: [116412, 1]"
          ]
        }
      ]
    },
    {
      "cell_type": "code",
      "metadata": {
        "colab": {
          "base_uri": "https://localhost:8080/"
        },
        "id": "AqKetlEcIRJ2",
        "outputId": "753fa953-5d82-4e43-9e91-bc1c3e30d3a1"
      },
      "source": [
        "print(\"X_train_f shape is: \" + str(X_train_f.shape))\n",
        "print(\"y_train_f is: \" + str(y_train_f.shape))\n",
        "print(y[1498:1505])"
      ],
      "execution_count": 25,
      "outputs": [
        {
          "output_type": "stream",
          "text": [
            "X_train_f shape is: (2700, 116412)\n",
            "y_train_f is: (2700, 1)\n",
            "[[1]\n",
            " [1]\n",
            " [0]\n",
            " [0]\n",
            " [0]\n",
            " [0]\n",
            " [0]]\n"
          ],
          "name": "stdout"
        }
      ]
    },
    {
      "cell_type": "markdown",
      "metadata": {
        "id": "vJE2V-DuPoh3"
      },
      "source": [
        "### Randomly picking data - part 2"
      ]
    },
    {
      "cell_type": "code",
      "metadata": {
        "id": "SLn5Sx6F7nad",
        "colab": {
          "base_uri": "https://localhost:8080/",
          "height": 268
        },
        "outputId": "2964425d-f965-41a9-c9f7-ed43e83b8bb8"
      },
      "source": [
        "m =  2000 # number of examples to train the models\n",
        "m_test = 200\n",
        "num_features = 29103 #116412 # num of features for each image\n",
        "train_X = np.zeros((num_features, m))\n",
        "train_Y = pd.DataFrame(data=data_Y.columns, columns=data_Y.columns)\n",
        "test_X = np.zeros((num_features, m_test))\n",
        "test_Y = pd.DataFrame(data=data_Y.columns, columns=data_Y.columns)\n",
        "# random numbers to selecet the training examples from the data frame.\n",
        "rand_num = np.random.choice(range(202599), (m + m_test), replace=False) \n",
        "img_path = np.sort(glob.glob(\"img_align_celeba/*.*\"))\n",
        "\n",
        "\n",
        "for i in range(0, m + m_test):\n",
        "    img = cv2.imread(img_path[i])\n",
        "    # flat image into an array.\n",
        "    img =  cv2.resize(img, (109, 89))\n",
        "    if i <10:\n",
        "      plt.imshow(img)\n",
        "\n",
        "    img_v = img.reshape((img.shape[0] * img.shape[1] * img.shape[2], 1))\n",
        "    if i < m:\n",
        "        train_X[:, i] = img_v[:, 0]\n",
        "        # find the equivalent samples in data_Y.\n",
        "        train_Y = pd.concat([train_Y, data_Y[data_Y['#'] == data_Y.iloc[i][0]]], ignore_index=True)\n",
        "\n",
        "    elif i>=m:\n",
        "        # same as above but for the test set.\n",
        "        test_X[:, (i-m)] = img_v[:, 0]\n",
        "        test_Y = pd.concat([test_Y, data_Y[data_Y['#'] == data_Y.iloc[i][0]]], ignore_index=True)\n",
        "\n",
        "# Standardize data\n",
        "train_X = train_X / 255.0\n",
        "test_X = test_X / 255.0\n",
        "\n",
        "# For now, we are only interested on the attribute attractive.\n",
        "train_Y_attractive = train_Y['Attractive']\n",
        "train_Y_attractive = train_Y_attractive.values.reshape((1, -1))\n",
        "test_Y_attractive = test_Y['Attractive']\n",
        "test_Y_attractive = test_Y_attractive.values.reshape((1, -1))"
      ],
      "execution_count": 4,
      "outputs": [
        {
          "output_type": "display_data",
          "data": {
            "image/png": "[encoded data removed]",
            "text/plain": [
              "<Figure size 432x288 with 1 Axes>"
            ]
          },
          "metadata": {
            "tags": [],
            "needs_background": "light"
          }
        }
      ]
    },
    {
      "cell_type": "code",
      "metadata": {
        "colab": {
          "base_uri": "https://localhost:8080/"
        },
        "id": "HEw292JDxqwA",
        "outputId": "db388853-28d6-45a1-b5e0-91680c434d73"
      },
      "source": [
        "## Visualizing the training set. \n",
        "# Note that since our models were randomly chosen from the data frame, then this\n",
        "# sample should be a good representation of the Data Frame.\n",
        "print(\"train_X shape is: \" + str(train_X.shape))\n",
        "print(\"train_Y_attractive shape is: \" + str(train_Y_attractive.shape))\n",
        "print(\"test_X shape is: \" + str(test_X.shape))\n",
        "print(\"test_Y_attractive shape is: \" + str(test_Y_attractive.shape))\n"
      ],
      "execution_count": 7,
      "outputs": [
        {
          "output_type": "stream",
          "text": [
            "train_X shape is: (29103, 2000)\n",
            "train_Y_attractive shape is: (1, 2000)\n",
            "test_X shape is: (29103, 200)\n",
            "test_Y_attractive shape is: (1, 200)\n"
          ],
          "name": "stdout"
        }
      ]
    },
    {
      "cell_type": "code",
      "metadata": {
        "id": "BVW808cDOkgW"
      },
      "source": [
        "# class weights to balance the training between all classes\n",
        "#class_weights = []\n",
        "#for i in range(train_df.size)):\n",
        "#    class_weights.append(len(train_df) / (20 * train_df[labels].sum()[i]))\n",
        "#class_weights_dict = {i: class_weights[i] for i in range(0, len(class_weights))}"
      ],
      "execution_count": null,
      "outputs": []
    },
    {
      "cell_type": "markdown",
      "metadata": {
        "id": "lopLdQovblgS"
      },
      "source": [
        "## Perceptron model to predict attractive and non-attractive people.\n",
        "\n",
        "We will implement the most basic implementation of a neural network to see how good a single layer neural network can accurately predict if a person is attractive or not. "
      ]
    },
    {
      "cell_type": "code",
      "metadata": {
        "id": "VJG6v1dITwai"
      },
      "source": [
        "class Perceptron:\n",
        "      def __init__(self, learning_rate=0.01, num_ite=1000):\n",
        "          self.learning_rate = learning_rate\n",
        "          self.num_ite = num_ite\n",
        "\n",
        "      def initialize_parameters(self, X):\n",
        "          num_W = X.shape[0]\n",
        "          W = np.random.randn(num_W, 1) * 0.01\n",
        "          b = 0\n",
        "          parameters = {\"W\": W, \"b\": b}\n",
        "          return parameters\n",
        "\n",
        "      def train(self, X, Y):\n",
        "          params = self.initialize_parameters(X)\n",
        "          for i in range(self.num_ite):\n",
        "              print(i)\n",
        "              W = params[\"W\"]\n",
        "              b = params[\"b\"]\n",
        "              print(W)\n",
        "              print(b)\n",
        "              A = self.forward_propagation(W, b, X)\n",
        "              #print(A)\n",
        "              cost = self.cost_function(A, Y)\n",
        "              grads = self.backward_propagation(A, X, Y)\n",
        "              params = self.update_rule(params, grads)      \n",
        "          return params, grads, cost\n",
        "\n",
        "      def forward_propagation(self, W, b, X):\n",
        "          Z = np.dot(W.T, X) + b\n",
        "          A = self.sigmoid_function(Z)\n",
        "          return A\n",
        "          \n",
        "      def sigmoid_function(self, Z):\n",
        "          Z = np.array(Z, dtype=np.float32)\n",
        "          sig = 1/(1 + np.exp(-Z))\n",
        "          return sig\n",
        "\n",
        "      def cost_function(self, y_hat, Y):  \n",
        "          m = y_hat.shape[1]  \n",
        "          #print(y_hat)\n",
        "          cost = (- 1 / m) * np.sum(Y * np.log(y_hat) + (1 - Y) * (np.log(1 - y_hat)))\n",
        "          print('COST: ' + str(cost))\n",
        "          return cost\n",
        "\n",
        "      def backward_propagation(self, A, X, Y):\n",
        "          dW = (1 / m) * np.dot(X, (A - Y).T)\n",
        "          db = (1 / m) * np.sum(A - Y)\n",
        "          grads = {\"dW\": dW, \"db\": db}\n",
        "          return grads\n",
        "\n",
        "      def update_rule(self, params, grads):\n",
        "          dW = grads[\"dW\"]\n",
        "          db = grads[\"db\"]\n",
        "          W = params[\"W\"]\n",
        "          b = params[\"b\"]\n",
        "          W = W - self.learning_rate * dW\n",
        "          b = b - self.learning_rate * db\n",
        "          parameters = {\"W\": W, \"b\": b}\n",
        "          return parameters\n",
        "      \n",
        "      def predict(self,params, test_X, test_Y):\n",
        "        m = test_X.shape[1]\n",
        "        A = self.forward_propagation(W, b, test_X)\n",
        "        Y_prediction = np.where(A >0.5, 1, 0)\n",
        "        return Y_prediction\n",
        "          "
      ],
      "execution_count": null,
      "outputs": []
    },
    {
      "cell_type": "code",
      "metadata": {
        "id": "IIjuyaIeUvUc"
      },
      "source": [
        "\n",
        "my_perceptron = Perceptron(learning_rate=0.01, num_ite=10)\n",
        "params, grads, cost = my_perceptron.train(train_X, train_Y_attractive)\n",
        "#parameters, costs = L_layer_model(train_x, train_y, layers_dims, num_iterations = 2500, print_cost = True)"
      ],
      "execution_count": null,
      "outputs": []
    },
    {
      "cell_type": "code",
      "metadata": {
        "id": "cp9gDq1u1Mmd"
      },
      "source": [
        "fit(train_X, train_Y_):"
      ],
      "execution_count": null,
      "outputs": []
    },
    {
      "cell_type": "code",
      "metadata": {
        "id": "pam3m0tielwl"
      },
      "source": [
        "train_X = train_X.T\n",
        "train_Y_attractive = np.array(train_Y_attractive, dtype=np.float).T\n",
        "test_X = test_X.T\n",
        "test_Y_attractive = np.array(test_Y_attractive.T,, dtype=np.float).T"
      ],
      "execution_count": 44,
      "outputs": []
    },
    {
      "cell_type": "code",
      "metadata": {
        "colab": {
          "base_uri": "https://localhost:8080/"
        },
        "id": "8hJxf8pic-cB",
        "outputId": "96e89fa1-8714-461b-c508-9977566e450c"
      },
      "source": [
        "#test_X = test_X.T\n",
        "#test_Y_attractive = test_Y_attractive.T\n",
        "print(train_X.shape)\n",
        "print(test_X.shape)\n",
        "print(test_Y_attractive.shape)\n"
      ],
      "execution_count": 55,
      "outputs": [
        {
          "output_type": "stream",
          "text": [
            "(2000, 29103)\n",
            "(200, 29103)\n",
            "(200, 1)\n"
          ],
          "name": "stdout"
        }
      ]
    },
    {
      "cell_type": "code",
      "metadata": {
        "colab": {
          "base_uri": "https://localhost:8080/"
        },
        "id": "JbmNf91WRpgw",
        "outputId": "fc535fa6-f467-4437-b008-d84bff86f75f"
      },
      "source": [
        "# Perceptron using sklearn\n",
        "max_iter = 40\n",
        "eta0 = 0.1\n",
        "\n",
        "ppn = Perceptron(max_iter=max_iter, \n",
        "                 eta0=eta0, \n",
        "                 random_state = 0)\n",
        "\n",
        "ppn.fit(train_X, train_Y_attractive)"
      ],
      "execution_count": 80,
      "outputs": [
        {
          "output_type": "stream",
          "text": [
            "/usr/local/lib/python3.7/dist-packages/sklearn/utils/validation.py:760: DataConversionWarning: A column-vector y was passed when a 1d array was expected. Please change the shape of y to (n_samples, ), for example using ravel().\n",
            "  y = column_or_1d(y, warn=True)\n",
            "/usr/local/lib/python3.7/dist-packages/sklearn/linear_model/_stochastic_gradient.py:557: ConvergenceWarning: Maximum number of iteration reached before convergence. Consider increasing max_iter to improve the fit.\n",
            "  ConvergenceWarning)\n"
          ],
          "name": "stderr"
        },
        {
          "output_type": "execute_result",
          "data": {
            "text/plain": [
              "Perceptron(alpha=0.0001, class_weight=None, early_stopping=False, eta0=0.1,\n",
              "           fit_intercept=True, max_iter=40, n_iter_no_change=5, n_jobs=None,\n",
              "           penalty=None, random_state=0, shuffle=True, tol=0.001,\n",
              "           validation_fraction=0.1, verbose=0, warm_start=False)"
            ]
          },
          "metadata": {
            "tags": []
          },
          "execution_count": 80
        }
      ]
    },
    {
      "cell_type": "code",
      "metadata": {
        "id": "-_ovZDPhiQM9"
      },
      "source": [
        "test_Y_attractive = np.array(test_Y_attractive, dtype=np.float)"
      ],
      "execution_count": 94,
      "outputs": []
    },
    {
      "cell_type": "code",
      "metadata": {
        "id": "EF2gBbKZfGRy"
      },
      "source": [
        "# Predict\n",
        "y_pred = y_pred.astype(int)"
      ],
      "execution_count": 90,
      "outputs": []
    },
    {
      "cell_type": "code",
      "metadata": {
        "id": "HY7dETTagsW7"
      },
      "source": [
        "#print(type(y_pred))\n",
        "#print(y_pred.size)\n",
        "#print(type(test_Y_attractive))\n",
        "y_pred[0:10]\n",
        "test_Y_attractive[0:10]"
      ],
      "execution_count": null,
      "outputs": []
    },
    {
      "cell_type": "code",
      "metadata": {
        "colab": {
          "base_uri": "https://localhost:8080/"
        },
        "id": "7Obz8aO4f9ej",
        "outputId": "4ae11870-0dc1-4246-a35a-58ff135034bd"
      },
      "source": [
        "# Accuracy of the test set\n",
        "print(\"accuracy: {0:.2f}%\",\n",
        "      format(accuracy_score(test_Y_attractive,\n",
        "                            y_pred)*100))"
      ],
      "execution_count": 96,
      "outputs": [
        {
          "output_type": "stream",
          "text": [
            "accuracy: {0:.2f}% 61.5\n"
          ],
          "name": "stdout"
        }
      ]
    },
    {
      "cell_type": "code",
      "metadata": {
        "id": "DwexPh56WgJi"
      },
      "source": [
        "# Implementing a deep neural network\n",
        "\n",
        "class DeepNN:\n",
        "\n",
        "    def __init__(self, learning_rate=0.01, num_ite=1000):\n",
        "        self.learning_rate = learning_rate\n",
        "        self.num_ite = num_ite\n",
        "\n",
        "    def initialize_parameters_deep(self, layer_dims):\n",
        "        parameters = {}\n",
        "        L = len(layer_dims) # number of layers in the network\n",
        "        for l in range(1, L):\n",
        "            parameters[\"W\" + str(l)] = np.random.randn(layer_dims[l], layer_dims[l-1]) * 0.01\n",
        "            parameters[\"b\" + str(l)] = np.zeros((layer_dims[l], 1))\n",
        "        return parameters\n",
        "\n",
        "    def fit(self, X, Y, layers_dims):\n",
        "        costs = []                        \n",
        "        # Initialize parameters\n",
        "        parameters = self.initialize_parameters_deep(layers_dims)\n",
        "        for i in range(0, self.num_ite):\n",
        "            print(i)\n",
        "            # Forward propagation: with a relu and then sigmoid activation function\n",
        "            AL, caches = self.L_model_forward(X, parameters)\n",
        "            # Cost function\n",
        "            cost  = self.compute_cost(AL, Y)\n",
        "            # Initializing backward propagation\n",
        "            grads = self.L_model_backward(AL, Y, caches)\n",
        "            # Update the paramters.\n",
        "            parameters = self.update_parameters(parameters, grads, self.learning_rate)\n",
        "\n",
        "            print(\"Cost after iteration {}: {}\".format(i, np.squeeze(cost)))\n",
        "        return parameters, costs \n",
        "\n",
        "    def linear_forward(self, A, W, b):\n",
        "        # Implement the linear part of a layer's forward propagation. ( CHANGE )\n",
        "        Z = np.dot(W, A) + b\n",
        "        cache = (A, W, b)  \n",
        "        return Z, cache\n",
        "\n",
        "    def L_model_forward(self, X, parameters):\n",
        "        # Implement the linear part of a layer's forward propagation.\n",
        "        caches = []\n",
        "        A = X\n",
        "        L = len(parameters) // 2 \n",
        "        # loop every layer\n",
        "        for l in range(1, L):\n",
        "            A_prev = A \n",
        "            A, cache = self.linear_activation_forward(A_prev, parameters[\"W\" + str(l)], parameters[\"b\" + str(l)], \"relu\")\n",
        "            caches.append(cache)\n",
        "        AL, cache = self.linear_activation_forward(A, parameters[\"W\" + str(L)], parameters[\"b\" + str(L)], \"sigmoid\")\n",
        "        caches.append(cache)\n",
        "        return AL, caches\n",
        "\n",
        "    def linear_backward(self, dZ, cache):\n",
        "        # Implement the linear portion of backward propagation for a single layer ( CHANGE )\n",
        "        A_prev, W, b = cache\n",
        "        m = A_prev.shape[1]\n",
        "        dW = (1./m) * np.dot(dZ, A_prev.T)\n",
        "        db = (1./m) * np.sum(dZ, axis = 1, keepdims=True)\n",
        "        dA_prev = np.dot(W.T, dZ)        \n",
        "        return dA_prev, dW, db\n",
        "\n",
        "    def L_model_backward(self, AL, Y, caches):\n",
        "        grads = {}\n",
        "        L = len(caches) # the number of layers\n",
        "        m = AL.shape[1]\n",
        "        Y = Y.reshape(AL.shape) # after this line, Y is the same shape as AL\n",
        "        dAL = - (np.divide(Y, AL) - np.divide(1 - Y, 1 - AL))\n",
        "        current_cache = caches[L-1]\n",
        "        dA_prev_temp, dW_temp, db_temp = self.linear_activation_backward(dAL, current_cache, \"sigmoid\")\n",
        "        grads[\"dA\" + str(L)] = dA_prev_temp\n",
        "        grads[\"dW\" + str(L)] = dW_temp\n",
        "        grads[\"db\" + str(L)] = db_temp\n",
        "        for l in reversed(range(L-1)):\n",
        "            current_cache = caches[l]\n",
        "            dA_prev_temp, dW_temp, db_temp = self.linear_activation_backward(grads[\"dA\" + str(l + 2)], current_cache, \"relu\")\n",
        "            grads[\"dA\" + str(l + 1)] = dA_prev_temp\n",
        "            grads[\"dW\" + str(l + 1)] = dW_temp\n",
        "            grads[\"db\" + str(l + 1)] = db_temp\n",
        "        return grads\n",
        "\n",
        "    def linear_activation_forward(self, A_prev, W, b, activation):\n",
        "        # Implement the forward propagation for the LINEAR->ACTIVATION layer\n",
        "        Z, linear_cache = self.linear_forward(A_prev, W, b)\n",
        "        Z = np.array(Z,dtype=np.float32)\n",
        "        if activation == \"sigmoid\":\n",
        "            A = 1/(1 + np.exp(-Z))\n",
        "        elif activation == \"relu\":\n",
        "            A = np.maximum(Z, 0)\n",
        "        cache = (linear_cache, Z)  \n",
        "        return A, cache\n",
        "\n",
        "    def linear_activation_backward(self, dA, cache, activation):\n",
        "        # Backward propagation.\n",
        "        linear_cache, activation_cache = cache\n",
        "        Z = activation_cache\n",
        "        if activation == \"relu\":\n",
        "          # Implement Back propagation witha relu activation function\n",
        "            dsig = np.where(Z>0, 1, 0)\n",
        "            dZ = dA * dsig\n",
        "            dA_prev, dW, db = self.linear_backward(dZ, linear_cache)\n",
        "        elif activation == \"sigmoid\":\n",
        "          # Implement Back propagation witha sigmoid activation function\n",
        "            dsig = 1/(1+np.exp(-Z)) * (1 - 1/(1+np.exp(-Z)))\n",
        "            dZ = dA * dsig    #= self.sigmoid_backward(dA, activation_cache)\n",
        "            dA_prev, dW, db = self.linear_backward(dZ, linear_cache)\n",
        "        return dA_prev, dW, db\n",
        "\n",
        "    def compute_cost(self, AL, Y):\n",
        "        cost = -(1/m) * (np.dot(Y, np.log(AL).T) + np.dot((1 - Y), np.log(1-AL).T))\n",
        "        cost = np.squeeze(cost)\n",
        "        return cost\n",
        "\n",
        "    def update_parameters(self, params, grads, learning_rate):\n",
        "        # Update the weiths and bieses of each layer\n",
        "        parameters = params.copy()\n",
        "        L = len(parameters) // 2\n",
        "        for l in range(L):\n",
        "            parameters[\"W\" + str(l+1)] = parameters[\"W\" + str(l+1)] - learning_rate * grads[\"dW\" + str(l+1)]\n",
        "            parameters[\"b\" + str(l+1)] = parameters[\"b\" + str(l+1)] - learning_rate * grads[\"db\" + str(l+1)]\n",
        "        return parameters\n",
        "\n",
        "    def prediction(self, test_X, test_Y, parameters):\n",
        "        AL, caches = self.L_model_forward(test_X, parameters)\n",
        "        y_hat = np.where(AL>=0.5, 1, 0)\n",
        "        m = y_hat.shape[1]\n",
        "        y_percentage = ( 1 - (1/m) * np.sum(abs(y_hat - test_Y)) ) * 100\n",
        "        # The unit step activation function returns only 1 or 0.\n",
        "        return y_hat, y_percentage\n",
        "\n",
        "      "
      ],
      "execution_count": null,
      "outputs": []
    },
    {
      "cell_type": "code",
      "metadata": {
        "colab": {
          "base_uri": "https://localhost:8080/",
          "height": 231
        },
        "id": "7p8dbgmZVnnI",
        "outputId": "5602491b-9a1e-4b37-988c-63c901c13474"
      },
      "source": [
        "layers_dims = [29103, 20, 7, 5, 1]\n",
        "              \n",
        "my_deepNN = DeepNN(learning_rate=0.0075, num_ite=2500)\n",
        "parameters, costs = my_deepNN.fit(train_X, train_Y_attractive, layers_dims)\n",
        "#parameters, costs = L_layer_model(train_x, train_y, layers_dims, num_iterations = 2500, print_cost = True)"
      ],
      "execution_count": null,
      "outputs": [
        {
          "output_type": "error",
          "ename": "NameError",
          "evalue": "ignored",
          "traceback": [
            "\u001b[0;31m---------------------------------------------------------------------------\u001b[0m",
            "\u001b[0;31mNameError\u001b[0m                                 Traceback (most recent call last)",
            "\u001b[0;32m<ipython-input-1-ab75276cee1c>\u001b[0m in \u001b[0;36m<module>\u001b[0;34m()\u001b[0m\n\u001b[1;32m      1\u001b[0m \u001b[0mlayers_dims\u001b[0m \u001b[0;34m=\u001b[0m \u001b[0;34m[\u001b[0m\u001b[0;36m29103\u001b[0m\u001b[0;34m,\u001b[0m \u001b[0;36m20\u001b[0m\u001b[0;34m,\u001b[0m \u001b[0;36m7\u001b[0m\u001b[0;34m,\u001b[0m \u001b[0;36m5\u001b[0m\u001b[0;34m,\u001b[0m \u001b[0;36m1\u001b[0m\u001b[0;34m]\u001b[0m\u001b[0;34m\u001b[0m\u001b[0;34m\u001b[0m\u001b[0m\n\u001b[1;32m      2\u001b[0m \u001b[0;34m\u001b[0m\u001b[0m\n\u001b[0;32m----> 3\u001b[0;31m \u001b[0mmy_deepNN\u001b[0m \u001b[0;34m=\u001b[0m \u001b[0mDeepNN\u001b[0m\u001b[0;34m(\u001b[0m\u001b[0mlearning_rate\u001b[0m\u001b[0;34m=\u001b[0m\u001b[0;36m0.0075\u001b[0m\u001b[0;34m,\u001b[0m \u001b[0mnum_ite\u001b[0m\u001b[0;34m=\u001b[0m\u001b[0;36m2500\u001b[0m\u001b[0;34m)\u001b[0m\u001b[0;34m\u001b[0m\u001b[0;34m\u001b[0m\u001b[0m\n\u001b[0m\u001b[1;32m      4\u001b[0m \u001b[0mparameters\u001b[0m\u001b[0;34m,\u001b[0m \u001b[0mcosts\u001b[0m \u001b[0;34m=\u001b[0m \u001b[0mmy_deepNN\u001b[0m\u001b[0;34m.\u001b[0m\u001b[0mfit\u001b[0m\u001b[0;34m(\u001b[0m\u001b[0mtrain_X\u001b[0m\u001b[0;34m,\u001b[0m \u001b[0mtrain_Y_attractive\u001b[0m\u001b[0;34m,\u001b[0m \u001b[0mlayers_dims\u001b[0m\u001b[0;34m)\u001b[0m\u001b[0;34m\u001b[0m\u001b[0;34m\u001b[0m\u001b[0m\n\u001b[1;32m      5\u001b[0m \u001b[0;31m#parameters, costs = L_layer_model(train_x, train_y, layers_dims, num_iterations = 2500, print_cost = True)\u001b[0m\u001b[0;34m\u001b[0m\u001b[0;34m\u001b[0m\u001b[0;34m\u001b[0m\u001b[0m\n",
            "\u001b[0;31mNameError\u001b[0m: name 'DeepNN' is not defined"
          ]
        }
      ]
    },
    {
      "cell_type": "code",
      "metadata": {
        "id": "d4Lv8OWADIHk"
      },
      "source": [
        "y_hat, y_percentage = my_deepNN.prediction(test_X, test_Y_attractive, parameters)"
      ],
      "execution_count": null,
      "outputs": []
    },
    {
      "cell_type": "code",
      "metadata": {
        "id": "KrBKhNFUfcMy"
      },
      "source": [
        "print(y_hat)\n",
        "print(y_percentage)\n"
      ],
      "execution_count": null,
      "outputs": []
    },
    {
      "cell_type": "code",
      "metadata": {
        "id": "DwStr0Y3heBd"
      },
      "source": [
        "print(test_Y_attractive)\n",
        "print(y_hat - test_Y_attractive)\n"
      ],
      "execution_count": null,
      "outputs": []
    },
    {
      "cell_type": "code",
      "metadata": {
        "id": "1TXcEIGnkjJg"
      },
      "source": [
        "# Convolutional neural network\n",
        "resnet = ResNet50(include_top=False, pooling='avg')\n",
        "model = Sequential()\n",
        "model.add(resnet)\n",
        "model.add(Dense(1))\n",
        "model.layers[0].trainable = False\n",
        "\n",
        "_ = model(tf.zeros([1, 218,178, 3]))\n",
        "\n",
        "model.summary()"
      ],
      "execution_count": null,
      "outputs": []
    },
    {
      "cell_type": "markdown",
      "metadata": {
        "id": "3fXBiSwT55KG"
      },
      "source": [
        "## Logistic Regression"
      ]
    },
    {
      "cell_type": "code",
      "metadata": {
        "id": "LpsIlfwN6AZ1"
      },
      "source": [
        ""
      ],
      "execution_count": null,
      "outputs": []
    },
    {
      "cell_type": "markdown",
      "metadata": {
        "id": "wjX8_Vvzizrw"
      },
      "source": [
        "## Convolutional Nueral Networks"
      ]
    },
    {
      "cell_type": "code",
      "metadata": {
        "colab": {
          "base_uri": "https://localhost:8080/"
        },
        "id": "6Wf3FZqt1IVx",
        "outputId": "d0da2dbf-e94d-41c9-9183-f9a75af0f54d"
      },
      "source": [
        "y = data_Y['Attractive'].head(5000)\n",
        "y.describe()"
      ],
      "execution_count": null,
      "outputs": [
        {
          "output_type": "execute_result",
          "data": {
            "text/plain": [
              "count     5000\n",
              "unique       2\n",
              "top          1\n",
              "freq      2561\n",
              "Name: Attractive, dtype: int64"
            ]
          },
          "metadata": {
            "tags": []
          },
          "execution_count": 16
        }
      ]
    },
    {
      "cell_type": "code",
      "metadata": {
        "id": "LNHwyJfw2P9_"
      },
      "source": [
        "X = torch.FloatTensor(training_data) #pickle.load(open(\"X.pickle\", \"rb\"))\n",
        "y = data_Y['Attractive'].head(5000)\n",
        "\n",
        "X = X/255.0"
      ],
      "execution_count": null,
      "outputs": []
    },
    {
      "cell_type": "code",
      "metadata": {
        "id": "23_Z8k1b2LaZ"
      },
      "source": [
        "print([X.shape[1:]])"
      ],
      "execution_count": null,
      "outputs": []
    },
    {
      "cell_type": "markdown",
      "metadata": {
        "id": "r5MX9mLCUJ-0"
      },
      "source": [
        "## Convolutional Neural Network using Keras"
      ]
    },
    {
      "cell_type": "code",
      "metadata": {
        "colab": {
          "base_uri": "https://localhost:8080/"
        },
        "id": "Rqf7R85KiMIz",
        "outputId": "58a2d984-5d25-496d-90ae-f8aece25eaf4"
      },
      "source": [
        "## ---NEW SECTION---\n",
        "# picking 75 and 75 attractive and unattractive people.\n",
        "answers = data_Y['Attractive']\n",
        "answers =answers.iloc[0:1050]\n",
        "answers.mean()\n"
      ],
      "execution_count": null,
      "outputs": [
        {
          "output_type": "execute_result",
          "data": {
            "text/plain": [
              "0.5228571428571429"
            ]
          },
          "metadata": {
            "tags": []
          },
          "execution_count": 16
        }
      ]
    },
    {
      "cell_type": "code",
      "metadata": {
        "id": "LaVxJ_M6jAID"
      },
      "source": [
        "from PIL import Image\n",
        "\n",
        "imgs = []\n",
        "#valid_images = [\".jpg\",\".gif\",\".png\",\".tga\"]\n",
        "\n",
        "img_path = np.sort(glob.glob(\"img_align_celeba/*.*\"))\n",
        "\n",
        "for i in range(100):\n",
        "    #img = cv2.imread(img_path[i])\n",
        "    image = cv2.imread(img_path[i])\n",
        "    img = np.array(image)\n",
        "            \n",
        "    imgs.append(img)"
      ],
      "execution_count": null,
      "outputs": []
    },
    {
      "cell_type": "code",
      "metadata": {
        "colab": {
          "base_uri": "https://localhost:8080/"
        },
        "id": "eCY5dDGxl-CU",
        "outputId": "cc6f1950-7c91-41f8-a561-31d7e9c07773"
      },
      "source": [
        "images_tensor = torch.FloatTensor(imgs)\n",
        "img_transpose = torch.transpose(images_tensor, 1, 3) #torch.reshape(images_tensor, (1050, 3, 218, 178))\n",
        "img_transpose = img_transpose.transpose(2, 3)\n",
        "img_transpose.size()"
      ],
      "execution_count": null,
      "outputs": [
        {
          "output_type": "execute_result",
          "data": {
            "text/plain": [
              "torch.Size([10, 3, 218, 178])"
            ]
          },
          "metadata": {
            "tags": []
          },
          "execution_count": 33
        }
      ]
    },
    {
      "cell_type": "code",
      "metadata": {
        "colab": {
          "background_save": true,
          "base_uri": "https://localhost:8080/",
          "height": 197
        },
        "id": "FvjF1HiUl-Fy",
        "outputId": "26130c2c-a74a-4a49-b6b4-698fa8d8be1d"
      },
      "source": [
        "# plot an image to make sure that everything is in order. Note that pythong plots images in gbr not in rbg.\n",
        "tensor_img = img_transpose[10]/255\n",
        "plt.imshow(tensor_img.permute(1, 2, 0))"
      ],
      "execution_count": null,
      "outputs": [
        {
          "output_type": "execute_result",
          "data": {
            "text/plain": [
              "<matplotlib.image.AxesImage at 0x7fe1bcd93dd0>"
            ]
          },
          "metadata": {
            "tags": []
          },
          "execution_count": 0
        },
        {
          "output_type": "display_data",
          "data": {
            "image/png": "[encoded data removed]",
            "text/plain": [
              "<Figure size 432x288 with 1 Axes>"
            ]
          },
          "metadata": {
            "tags": []
          }
        }
      ]
    },
    {
      "cell_type": "code",
      "metadata": {
        "id": "dYhe82yEl-L0"
      },
      "source": [
        "class Net(nn.Module):\n",
        "    def __init__(self):\n",
        "        super(Net, self).__init__()\n",
        "        self.conv1 = nn.Conv2d(in_channels=3, out_channels=10, kernel_size=5)\n",
        "        self.conv2 = nn.Conv2d(in_channels=10, out_channels=20, kernel_size=5)\n",
        "#         self.conv2_drop = nn.Dropout2d()\n",
        "        self.fc1 = nn.Linear(41820, 418)\n",
        "        self.fc2 = nn.Linear(418, 44)\n",
        "        self.fc3 = nn.Linear(44, 5)\n",
        "        self.fc4 = nn.Linear(5, 2)\n",
        "\n",
        "    def forward(self, x):\n",
        "        x=x\n",
        "        # (1) Input later \"x = x\"\n",
        "        # (2) Hidden conv1 layer\n",
        "#         x = self.conv1(x)\n",
        "        x = F.relu(self.conv1(x))\n",
        "        x = F.max_pool2d(x, kernel_size=2)\n",
        "#         x = F.relu(F.max_pool2d(self.conv1(x), 2))\n",
        "\n",
        "        # (3) Hidden conv2 layer\n",
        "        x = self.conv2(x)\n",
        "        x = F.relu(x)\n",
        "        x = F.max_pool2d(x, kernel_size=2)\n",
        "#         x = F.relu(F.max_pool2d(self.conv2_drop(self.conv2(x)), 2))\n",
        "\n",
        "        # (4) Hidden linear layer\n",
        "        x = x.view(x.size(0),  41820)\n",
        "        x = F.relu(self.fc1(x))\n",
        "        x = F.dropout(x, training=self.training)\n",
        "        x = self.fc2(x)\n",
        "        x = self.fc3(x)\n",
        "        x = self.fc4(x)\n",
        "        return x"
      ],
      "execution_count": null,
      "outputs": []
    },
    {
      "cell_type": "code",
      "metadata": {
        "colab": {
          "base_uri": "https://localhost:8080/"
        },
        "id": "vT8Pb8lQl-RN",
        "outputId": "fd61657f-d30b-476c-da8a-8b7a0eef32af"
      },
      "source": [
        "model = Net()\n",
        "model"
      ],
      "execution_count": null,
      "outputs": [
        {
          "output_type": "execute_result",
          "data": {
            "text/plain": [
              "Net(\n",
              "  (conv1): Conv2d(3, 10, kernel_size=(5, 5), stride=(1, 1))\n",
              "  (conv2): Conv2d(10, 20, kernel_size=(5, 5), stride=(1, 1))\n",
              "  (fc1): Linear(in_features=41820, out_features=418, bias=True)\n",
              "  (fc2): Linear(in_features=418, out_features=44, bias=True)\n",
              "  (fc3): Linear(in_features=44, out_features=5, bias=True)\n",
              "  (fc4): Linear(in_features=5, out_features=2, bias=True)\n",
              ")"
            ]
          },
          "metadata": {
            "tags": []
          },
          "execution_count": 66
        }
      ]
    },
    {
      "cell_type": "code",
      "metadata": {
        "colab": {
          "base_uri": "https://localhost:8080/"
        },
        "id": "A9_j8a_o0faM",
        "outputId": "439c3229-9639-4f6c-cf51-19a9a5213884"
      },
      "source": [
        "answers.astype('float64').values"
      ],
      "execution_count": null,
      "outputs": [
        {
          "output_type": "execute_result",
          "data": {
            "text/plain": [
              "array([0., 0., 0., 0., 0., 0., 0., 1., 0., 1., 1., 1., 1., 0., 0., 1., 1.,\n",
              "       1., 1., 1., 1., 1., 1., 1., 0., 0., 1., 0., 1., 0., 0., 1., 0., 0.,\n",
              "       0., 1., 0., 0., 1., 1., 1., 1., 0., 0., 1., 0., 0., 0., 0., 1., 0.,\n",
              "       1., 0., 0., 0., 1., 0., 0., 0., 1., 1., 0., 0., 0., 0., 1., 1., 1.,\n",
              "       0., 0., 1., 1., 0., 0., 1., 0., 0., 0., 1., 1., 0., 1., 0., 0., 0.,\n",
              "       1., 1., 0., 1., 0., 1., 1., 0., 0., 1., 0., 1., 1., 0., 1., 0., 1.,\n",
              "       1., 1., 1., 0., 1., 0., 1., 1., 1., 0., 1., 1., 1., 0., 1., 1., 0.,\n",
              "       1., 1., 0., 1., 1., 0., 0., 1., 0., 0., 0., 1., 0., 0., 1., 0., 0.,\n",
              "       0., 0., 1., 1., 0., 1., 1., 0., 1., 0., 1., 1., 1., 1.])"
            ]
          },
          "metadata": {
            "tags": []
          },
          "execution_count": 114
        }
      ]
    },
    {
      "cell_type": "code",
      "metadata": {
        "colab": {
          "base_uri": "https://localhost:8080/"
        },
        "id": "q26pjebo0fdi",
        "outputId": "833d8481-b380-4274-ba9f-c8795e166e9d"
      },
      "source": [
        "answers_train = torch.from_numpy(answers.astype('float64').values)\n",
        "answers_train2 = answers_train.long()\n",
        "\n",
        "img_transpose_train = img_transpose\n",
        "img_transpose_train.size()"
      ],
      "execution_count": null,
      "outputs": [
        {
          "output_type": "execute_result",
          "data": {
            "text/plain": [
              "torch.Size([1050, 3, 218, 178])"
            ]
          },
          "metadata": {
            "tags": []
          },
          "execution_count": 19
        }
      ]
    },
    {
      "cell_type": "code",
      "metadata": {
        "id": "fZupGm800fjZ"
      },
      "source": [
        "cross_entropy_loss = nn.CrossEntropyLoss()\n",
        "optimizer = optim.Adam(model.parameters(), lr=0.00000000000001)"
      ],
      "execution_count": null,
      "outputs": []
    },
    {
      "cell_type": "code",
      "metadata": {
        "id": "gdILcPMB0oe8"
      },
      "source": [
        "for step in range(20):\n",
        "    models = model(img_transpose_train)\n",
        "    cross_entropy = cross_entropy_loss(models, answers_train2)\n",
        "    total_cost = cross_entropy \n",
        "    \n",
        "    print(total_cost)\n",
        "\n",
        "    optimizer.zero_grad()\n",
        "    total_cost.backward()\n",
        "    optimizer.step()"
      ],
      "execution_count": null,
      "outputs": []
    },
    {
      "cell_type": "code",
      "metadata": {
        "id": "ZHZ3Ncut0zoG"
      },
      "source": [
        "_ , predicted = torch.max(models.data, 1)\n",
        "predicted"
      ],
      "execution_count": null,
      "outputs": []
    },
    {
      "cell_type": "code",
      "metadata": {
        "id": "zlobeyhG0zsu"
      },
      "source": [
        "_ , predicted = torch.max(models.data, 1)\n",
        "\n",
        "final = answers_train2.size(0)\n",
        "correct = (predicted == answers_train2).sum()\n",
        "print('- Accuracy: %f %%' % (100 * float(correct) / final))\n",
        "print('- CE : %2.2f,' % (cross_entropy.item()))"
      ],
      "execution_count": null,
      "outputs": []
    },
    {
      "cell_type": "markdown",
      "metadata": {
        "id": "y0P73S75Y6BJ"
      },
      "source": [
        "# keras Model"
      ]
    },
    {
      "cell_type": "code",
      "metadata": {
        "colab": {
          "base_uri": "https://localhost:8080/"
        },
        "id": "HghYDvl52lLF",
        "outputId": "5b930d29-6fe9-41cf-ac3e-e4ffa9b0d728"
      },
      "source": [
        "#images_tensor = np.array(imgs)\n",
        "X = np.array(imgs).astype('float64')/255\n",
        "y = np.array(answers_train2) #np.array(data_Y[\"Attractive\"].head(1050))\n",
        "print(y)"
      ],
      "execution_count": null,
      "outputs": [
        {
          "output_type": "stream",
          "text": [
            "[1 0 0 ... 1 1 1]\n"
          ],
          "name": "stdout"
        }
      ]
    },
    {
      "cell_type": "code",
      "metadata": {
        "colab": {
          "base_uri": "https://localhost:8080/"
        },
        "id": "MDu4n5nnNsmN",
        "outputId": "9b2d5186-c819-40b4-93ad-dd543209e113"
      },
      "source": [
        "# THIS WILL BE USE LATER TO ANALIZE THE CNN\n",
        "# Tensorboard:\n",
        "logdir = \"/content/\"\n",
        "NAME = \"Attractive-{}\".format(int(time.time()))\n",
        "tensorboard_callback = TensorBoard(log_dir=logdir+'logs/{}'.format(NAME))\n",
        "#tensorboard_callback = TensorBoard(logdir, histogram_freq=1)\n",
        "\n",
        "%load_ext tensorboard\n"
      ],
      "execution_count": null,
      "outputs": [
        {
          "output_type": "stream",
          "text": [
            "The tensorboard extension is already loaded. To reload it, use:\n",
            "  %reload_ext tensorboard\n"
          ],
          "name": "stdout"
        }
      ]
    },
    {
      "cell_type": "code",
      "metadata": {
        "id": "TDpeol9r0zxk"
      },
      "source": [
        "model = Sequential()\n",
        "\n",
        "model.add(Conv2D(64, (3,3), input_shape = X.shape[1:]))\n",
        "model.add(Activation(\"relu\"))\n",
        "model.add(MaxPooling2D(pool_size=(2, 2)))  #, strides=None, padding='valid', data_format='channels_first'))\n",
        "\n",
        "model.add(Conv2D(64, (3,3)))\n",
        "model.add(Activation(\"relu\"))\n",
        "model.add(MaxPooling2D(pool_size=(2, 2)))\n",
        "\n",
        "model.add(Flatten())\n",
        "\n",
        "model.add(Dense(64))\n",
        "model.add(Activation(\"relu\"))\n",
        "\n",
        "model.add(Dense(1))\n",
        "model.add(Activation('sigmoid'))\n",
        "\n",
        "model.compile(loss=\"binary_crossentropy\",\n",
        "             optimizer=\"adam\", \n",
        "             metrics=['accuracy'])\n",
        "\n",
        "model.fit(X, y, batch_size=32,epochs=10, validation_split=0.1, callbacks =[tensorboard_callback])"
      ],
      "execution_count": null,
      "outputs": []
    },
    {
      "cell_type": "code",
      "metadata": {
        "id": "1G9MQPVIl4WT"
      },
      "source": [
        "dense_layers = [0, 1, 2]\n",
        "layer_sizes = [32, 64, 128]\n",
        "conv_layers = [1, 2, 3]\n",
        "\n",
        "for dense_layer in dense_layers:\n",
        "    for layer_size in layer_sizes:\n",
        "        for conv_layer in conv_layers:\n",
        "            NAME = \"{}-conv-{}-nodes-{}-dense-{}\".format(conv_layer, layer_size,  dense_layer, int(time.time()))\n",
        "            tensorboard_callback = TensorBoard(log_dir=logdir+'logs/{}'.format(NAME))\n",
        "            print(NAME)\n",
        "            model = Sequential()\n",
        "\n",
        "            model.add(Conv2D(64, (3,3), input_shape = X.shape[1:]))\n",
        "            model.add(Activation(\"relu\"))\n",
        "            model.add(MaxPooling2D(pool_size=(2, 2)))  #, strides=None, padding='valid', data_format='channels_first'))\n",
        "\n",
        "            for l in range(conv_layer-1):\n",
        "                model.add(Conv2D(conv_layer, (3,3)))\n",
        "                model.add(Activation(\"relu\"))\n",
        "                model.add(MaxPooling2D(pool_size=(2, 2)))\n",
        "\n",
        "            model.add(Flatten())\n",
        "            for l in range(dense_layer):\n",
        "                model.add(Dense(dense_layer))\n",
        "                model.add(Activation(\"relu\"))\n",
        " \n",
        "            model.add(Dense(1))\n",
        "            model.add(Activation('sigmoid'))\n",
        "\n",
        "            model.compile(loss=\"binary_crossentropy\",\n",
        "                        optimizer=\"adam\", \n",
        "                        metrics=['accuracy'])\n",
        "\n",
        "            model.fit(X, y, batch_size=32,epochs=10, validation_split=0.1, callbacks =[tensorboard_callback])"
      ],
      "execution_count": null,
      "outputs": []
    },
    {
      "cell_type": "code",
      "metadata": {
        "id": "3IhSXMgy4prs"
      },
      "source": [
        "# Load tensorboard:\n",
        "%tensorboard --logdir /content/"
      ],
      "execution_count": null,
      "outputs": []
    },
    {
      "cell_type": "code",
      "metadata": {
        "id": "Po4ix8-94wMs"
      },
      "source": [
        ""
      ],
      "execution_count": null,
      "outputs": []
    }
  ]
}